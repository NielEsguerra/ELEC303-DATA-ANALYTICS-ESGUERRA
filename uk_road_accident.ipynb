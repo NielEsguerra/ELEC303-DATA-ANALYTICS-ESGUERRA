{
 "cells": [
  {
   "cell_type": "markdown",
   "id": "fff33ea5-bd99-48dc-a0c4-cb7f8dc20414",
   "metadata": {},
   "source": [
    "<h3> UK ROAD ACCIDENT ANALYSIS</h3>\n",
    "<hr> Analyst: Nathaniel Esguerra"
   ]
  },
  {
   "cell_type": "code",
   "execution_count": 1,
   "id": "7d17f1cb-0d3d-4965-8a62-c5c2f3f5964a",
   "metadata": {},
   "outputs": [],
   "source": [
    "import numpy as np\n",
    "import pandas as pd \n",
    "import matplotlib.pyplot as plt"
   ]
  },
  {
   "cell_type": "code",
   "execution_count": 2,
   "id": "deb7d0b5-768e-44f4-bad9-95749ca1d1cc",
   "metadata": {},
   "outputs": [],
   "source": [
    "uk_road_accident = pd.read_csv('datasets\\\\uk_road_accident.csv')"
   ]
  },
  {
   "cell_type": "code",
   "execution_count": 3,
   "id": "d92c9dc1-88be-4bc2-b890-331cd12600ad",
   "metadata": {},
   "outputs": [
    {
     "data": {
      "text/html": [
       "<div>\n",
       "<style scoped>\n",
       "    .dataframe tbody tr th:only-of-type {\n",
       "        vertical-align: middle;\n",
       "    }\n",
       "\n",
       "    .dataframe tbody tr th {\n",
       "        vertical-align: top;\n",
       "    }\n",
       "\n",
       "    .dataframe thead th {\n",
       "        text-align: right;\n",
       "    }\n",
       "</style>\n",
       "<table border=\"1\" class=\"dataframe\">\n",
       "  <thead>\n",
       "    <tr style=\"text-align: right;\">\n",
       "      <th></th>\n",
       "      <th>Index</th>\n",
       "      <th>Accident_Severity</th>\n",
       "      <th>Accident Date</th>\n",
       "      <th>Latitude</th>\n",
       "      <th>Light_Conditions</th>\n",
       "      <th>District Area</th>\n",
       "      <th>Longitude</th>\n",
       "      <th>Number_of_Casualties</th>\n",
       "      <th>Number_of_Vehicles</th>\n",
       "      <th>Road_Surface_Conditions</th>\n",
       "      <th>Road_Type</th>\n",
       "      <th>Urban_or_Rural_Area</th>\n",
       "      <th>Weather_Conditions</th>\n",
       "      <th>Vehicle_Type</th>\n",
       "    </tr>\n",
       "  </thead>\n",
       "  <tbody>\n",
       "    <tr>\n",
       "      <th>0</th>\n",
       "      <td>200701BS64157</td>\n",
       "      <td>Serious</td>\n",
       "      <td>5/6/2019</td>\n",
       "      <td>51.506187</td>\n",
       "      <td>Darkness - lights lit</td>\n",
       "      <td>Kensington and Chelsea</td>\n",
       "      <td>-0.209082</td>\n",
       "      <td>1</td>\n",
       "      <td>2</td>\n",
       "      <td>Dry</td>\n",
       "      <td>Single carriageway</td>\n",
       "      <td>Urban</td>\n",
       "      <td>Fine no high winds</td>\n",
       "      <td>Car</td>\n",
       "    </tr>\n",
       "    <tr>\n",
       "      <th>1</th>\n",
       "      <td>200701BS65737</td>\n",
       "      <td>Serious</td>\n",
       "      <td>2/7/2019</td>\n",
       "      <td>51.495029</td>\n",
       "      <td>Daylight</td>\n",
       "      <td>Kensington and Chelsea</td>\n",
       "      <td>-0.173647</td>\n",
       "      <td>1</td>\n",
       "      <td>2</td>\n",
       "      <td>Wet or damp</td>\n",
       "      <td>Single carriageway</td>\n",
       "      <td>Urban</td>\n",
       "      <td>Raining no high winds</td>\n",
       "      <td>Car</td>\n",
       "    </tr>\n",
       "    <tr>\n",
       "      <th>2</th>\n",
       "      <td>200701BS66127</td>\n",
       "      <td>Serious</td>\n",
       "      <td>26-08-2019</td>\n",
       "      <td>51.517715</td>\n",
       "      <td>Darkness - lighting unknown</td>\n",
       "      <td>Kensington and Chelsea</td>\n",
       "      <td>-0.210215</td>\n",
       "      <td>1</td>\n",
       "      <td>3</td>\n",
       "      <td>Dry</td>\n",
       "      <td>NaN</td>\n",
       "      <td>Urban</td>\n",
       "      <td>NaN</td>\n",
       "      <td>Taxi/Private hire car</td>\n",
       "    </tr>\n",
       "    <tr>\n",
       "      <th>3</th>\n",
       "      <td>200701BS66128</td>\n",
       "      <td>Serious</td>\n",
       "      <td>16-08-2019</td>\n",
       "      <td>51.495478</td>\n",
       "      <td>Daylight</td>\n",
       "      <td>Kensington and Chelsea</td>\n",
       "      <td>-0.202731</td>\n",
       "      <td>1</td>\n",
       "      <td>4</td>\n",
       "      <td>Dry</td>\n",
       "      <td>Single carriageway</td>\n",
       "      <td>Urban</td>\n",
       "      <td>Fine no high winds</td>\n",
       "      <td>Bus or coach (17 or more pass seats)</td>\n",
       "    </tr>\n",
       "    <tr>\n",
       "      <th>4</th>\n",
       "      <td>200701BS66837</td>\n",
       "      <td>Slight</td>\n",
       "      <td>3/9/2019</td>\n",
       "      <td>51.488576</td>\n",
       "      <td>Darkness - lights lit</td>\n",
       "      <td>Kensington and Chelsea</td>\n",
       "      <td>-0.192487</td>\n",
       "      <td>1</td>\n",
       "      <td>2</td>\n",
       "      <td>Dry</td>\n",
       "      <td>NaN</td>\n",
       "      <td>Urban</td>\n",
       "      <td>NaN</td>\n",
       "      <td>Other vehicle</td>\n",
       "    </tr>\n",
       "    <tr>\n",
       "      <th>...</th>\n",
       "      <td>...</td>\n",
       "      <td>...</td>\n",
       "      <td>...</td>\n",
       "      <td>...</td>\n",
       "      <td>...</td>\n",
       "      <td>...</td>\n",
       "      <td>...</td>\n",
       "      <td>...</td>\n",
       "      <td>...</td>\n",
       "      <td>...</td>\n",
       "      <td>...</td>\n",
       "      <td>...</td>\n",
       "      <td>...</td>\n",
       "      <td>...</td>\n",
       "    </tr>\n",
       "    <tr>\n",
       "      <th>660674</th>\n",
       "      <td>201091NM01760</td>\n",
       "      <td>Slight</td>\n",
       "      <td>18-02-2022</td>\n",
       "      <td>57.374005</td>\n",
       "      <td>Daylight</td>\n",
       "      <td>Highland</td>\n",
       "      <td>-3.467828</td>\n",
       "      <td>2</td>\n",
       "      <td>1</td>\n",
       "      <td>Dry</td>\n",
       "      <td>Single carriageway</td>\n",
       "      <td>Rural</td>\n",
       "      <td>Fine no high winds</td>\n",
       "      <td>Car</td>\n",
       "    </tr>\n",
       "    <tr>\n",
       "      <th>660675</th>\n",
       "      <td>201091NM01881</td>\n",
       "      <td>Slight</td>\n",
       "      <td>21-02-2022</td>\n",
       "      <td>57.232273</td>\n",
       "      <td>Darkness - no lighting</td>\n",
       "      <td>Highland</td>\n",
       "      <td>-3.809281</td>\n",
       "      <td>1</td>\n",
       "      <td>1</td>\n",
       "      <td>Frost or ice</td>\n",
       "      <td>Single carriageway</td>\n",
       "      <td>Rural</td>\n",
       "      <td>Fine no high winds</td>\n",
       "      <td>Car</td>\n",
       "    </tr>\n",
       "    <tr>\n",
       "      <th>660676</th>\n",
       "      <td>201091NM01935</td>\n",
       "      <td>Slight</td>\n",
       "      <td>23-02-2022</td>\n",
       "      <td>57.585044</td>\n",
       "      <td>Daylight</td>\n",
       "      <td>Highland</td>\n",
       "      <td>-3.862727</td>\n",
       "      <td>1</td>\n",
       "      <td>3</td>\n",
       "      <td>Frost or ice</td>\n",
       "      <td>Single carriageway</td>\n",
       "      <td>Rural</td>\n",
       "      <td>Fine no high winds</td>\n",
       "      <td>Car</td>\n",
       "    </tr>\n",
       "    <tr>\n",
       "      <th>660677</th>\n",
       "      <td>201091NM01964</td>\n",
       "      <td>Serious</td>\n",
       "      <td>23-02-2022</td>\n",
       "      <td>57.214898</td>\n",
       "      <td>Darkness - no lighting</td>\n",
       "      <td>Highland</td>\n",
       "      <td>-3.823997</td>\n",
       "      <td>1</td>\n",
       "      <td>2</td>\n",
       "      <td>Wet or damp</td>\n",
       "      <td>Single carriageway</td>\n",
       "      <td>Rural</td>\n",
       "      <td>Fine no high winds</td>\n",
       "      <td>Motorcycle over 500cc</td>\n",
       "    </tr>\n",
       "    <tr>\n",
       "      <th>660678</th>\n",
       "      <td>201091NM02142</td>\n",
       "      <td>Serious</td>\n",
       "      <td>28-02-2022</td>\n",
       "      <td>57.575210</td>\n",
       "      <td>Daylight</td>\n",
       "      <td>Highland</td>\n",
       "      <td>-3.895673</td>\n",
       "      <td>1</td>\n",
       "      <td>1</td>\n",
       "      <td>Wet or damp</td>\n",
       "      <td>Dual carriageway</td>\n",
       "      <td>Rural</td>\n",
       "      <td>Snowing no high winds</td>\n",
       "      <td>Car</td>\n",
       "    </tr>\n",
       "  </tbody>\n",
       "</table>\n",
       "<p>660679 rows × 14 columns</p>\n",
       "</div>"
      ],
      "text/plain": [
       "                Index Accident_Severity Accident Date   Latitude  \\\n",
       "0       200701BS64157           Serious      5/6/2019  51.506187   \n",
       "1       200701BS65737           Serious      2/7/2019  51.495029   \n",
       "2       200701BS66127           Serious    26-08-2019  51.517715   \n",
       "3       200701BS66128           Serious    16-08-2019  51.495478   \n",
       "4       200701BS66837            Slight      3/9/2019  51.488576   \n",
       "...               ...               ...           ...        ...   \n",
       "660674  201091NM01760            Slight    18-02-2022  57.374005   \n",
       "660675  201091NM01881            Slight    21-02-2022  57.232273   \n",
       "660676  201091NM01935            Slight    23-02-2022  57.585044   \n",
       "660677  201091NM01964           Serious    23-02-2022  57.214898   \n",
       "660678  201091NM02142           Serious    28-02-2022  57.575210   \n",
       "\n",
       "                   Light_Conditions           District Area  Longitude  \\\n",
       "0             Darkness - lights lit  Kensington and Chelsea  -0.209082   \n",
       "1                          Daylight  Kensington and Chelsea  -0.173647   \n",
       "2       Darkness - lighting unknown  Kensington and Chelsea  -0.210215   \n",
       "3                          Daylight  Kensington and Chelsea  -0.202731   \n",
       "4             Darkness - lights lit  Kensington and Chelsea  -0.192487   \n",
       "...                             ...                     ...        ...   \n",
       "660674                     Daylight                Highland  -3.467828   \n",
       "660675       Darkness - no lighting                Highland  -3.809281   \n",
       "660676                     Daylight                Highland  -3.862727   \n",
       "660677       Darkness - no lighting                Highland  -3.823997   \n",
       "660678                     Daylight                Highland  -3.895673   \n",
       "\n",
       "        Number_of_Casualties  Number_of_Vehicles Road_Surface_Conditions  \\\n",
       "0                          1                   2                     Dry   \n",
       "1                          1                   2             Wet or damp   \n",
       "2                          1                   3                     Dry   \n",
       "3                          1                   4                     Dry   \n",
       "4                          1                   2                     Dry   \n",
       "...                      ...                 ...                     ...   \n",
       "660674                     2                   1                     Dry   \n",
       "660675                     1                   1            Frost or ice   \n",
       "660676                     1                   3            Frost or ice   \n",
       "660677                     1                   2             Wet or damp   \n",
       "660678                     1                   1             Wet or damp   \n",
       "\n",
       "                 Road_Type Urban_or_Rural_Area     Weather_Conditions  \\\n",
       "0       Single carriageway               Urban     Fine no high winds   \n",
       "1       Single carriageway               Urban  Raining no high winds   \n",
       "2                      NaN               Urban                    NaN   \n",
       "3       Single carriageway               Urban     Fine no high winds   \n",
       "4                      NaN               Urban                    NaN   \n",
       "...                    ...                 ...                    ...   \n",
       "660674  Single carriageway               Rural     Fine no high winds   \n",
       "660675  Single carriageway               Rural     Fine no high winds   \n",
       "660676  Single carriageway               Rural     Fine no high winds   \n",
       "660677  Single carriageway               Rural     Fine no high winds   \n",
       "660678    Dual carriageway               Rural  Snowing no high winds   \n",
       "\n",
       "                                Vehicle_Type  \n",
       "0                                        Car  \n",
       "1                                        Car  \n",
       "2                      Taxi/Private hire car  \n",
       "3       Bus or coach (17 or more pass seats)  \n",
       "4                              Other vehicle  \n",
       "...                                      ...  \n",
       "660674                                   Car  \n",
       "660675                                   Car  \n",
       "660676                                   Car  \n",
       "660677                 Motorcycle over 500cc  \n",
       "660678                                   Car  \n",
       "\n",
       "[660679 rows x 14 columns]"
      ]
     },
     "execution_count": 3,
     "metadata": {},
     "output_type": "execute_result"
    }
   ],
   "source": [
    "uk_road_accident"
   ]
  },
  {
   "cell_type": "markdown",
   "id": "6c183dc8-efbb-40a1-8bb1-b26443bf2d7d",
   "metadata": {},
   "source": [
    "<h3> 1. Which districts recorded the most accidents?</h3>"
   ]
  },
  {
   "cell_type": "code",
   "execution_count": 4,
   "id": "f6d5393c-6eb1-4913-9c89-57241cf5bfa0",
   "metadata": {},
   "outputs": [
    {
     "data": {
      "text/plain": [
       "District Area\n",
       "Birmingham            13491\n",
       "Leeds                  8898\n",
       "Manchester             6720\n",
       "Bradford               6212\n",
       "Sheffield              5710\n",
       "                      ...  \n",
       "Berwick-upon-Tweed      153\n",
       "Teesdale                142\n",
       "Shetland Islands        133\n",
       "Orkney Islands          117\n",
       "Clackmannanshire         91\n",
       "Name: count, Length: 422, dtype: int64"
      ]
     },
     "execution_count": 4,
     "metadata": {},
     "output_type": "execute_result"
    }
   ],
   "source": [
    "uk_road_accident['District Area'].value_counts()"
   ]
  },
  {
   "cell_type": "markdown",
   "id": "d2274fca-135d-4cbf-a6d1-b4768fb243bc",
   "metadata": {},
   "source": [
    "<hr> Insight#1 - Birmingham recorded the most accidents (13,491), significantly higher than Leeds (8,898) and Manchester (6,720)."
   ]
  },
  {
   "cell_type": "markdown",
   "id": "caed9d51-6e6d-49ac-9476-45b36aa348a8",
   "metadata": {},
   "source": [
    "<h3 2. Which vehicles are most often involved in deadly accidents?"
   ]
  },
  {
   "cell_type": "markdown",
   "id": "040111a9-3165-4a1f-be42-f6547b926f22",
   "metadata": {},
   "source": [
    "<h3> 2. Which vehicles are most often involved in deadly accidents?</h3>"
   ]
  },
  {
   "cell_type": "code",
   "execution_count": 5,
   "id": "1c62644a-db66-478b-8280-5eaf43f379ee",
   "metadata": {},
   "outputs": [],
   "source": [
    "vehicle_type_df = uk_road_accident['Vehicle_Type']"
   ]
  },
  {
   "cell_type": "code",
   "execution_count": 6,
   "id": "61fa77d7-e8a1-4636-9585-4381548853b6",
   "metadata": {},
   "outputs": [
    {
     "data": {
      "text/plain": [
       "0                                          Car\n",
       "1                                          Car\n",
       "2                        Taxi/Private hire car\n",
       "3         Bus or coach (17 or more pass seats)\n",
       "4                                Other vehicle\n",
       "                          ...                 \n",
       "660674                                     Car\n",
       "660675                                     Car\n",
       "660676                                     Car\n",
       "660677                   Motorcycle over 500cc\n",
       "660678                                     Car\n",
       "Name: Vehicle_Type, Length: 660679, dtype: object"
      ]
     },
     "execution_count": 6,
     "metadata": {},
     "output_type": "execute_result"
    }
   ],
   "source": [
    "vehicle_type_df"
   ]
  },
  {
   "cell_type": "markdown",
   "id": "606eb356-a056-47ff-9488-bd1e1b82c51e",
   "metadata": {},
   "source": [
    "<hr> Insight#2 - Cars are the most involved vehicle type in deadly accidents, with a total of 660,679 cases"
   ]
  },
  {
   "cell_type": "markdown",
   "id": "380c4229-7005-4134-bff9-ea88386d3ddc",
   "metadata": {},
   "source": [
    "<h3> 3. What is the mean number of casualties in each accident? </h3>"
   ]
  },
  {
   "cell_type": "code",
   "execution_count": 7,
   "id": "5adeabc8-a450-4ea0-b870-f6e8eddcef8f",
   "metadata": {},
   "outputs": [
    {
     "data": {
      "text/plain": [
       "np.float64(1.357040257068864)"
      ]
     },
     "execution_count": 7,
     "metadata": {},
     "output_type": "execute_result"
    }
   ],
   "source": [
    "uk_road_accident['Number_of_Casualties'].mean()"
   ]
  },
  {
   "cell_type": "markdown",
   "id": "f580afb3-be5c-4ebc-9c46-f7e679baee34",
   "metadata": {},
   "source": [
    "<hr> Insight#3 - The majority of accidents fall under the 'Slight' severity category."
   ]
  },
  {
   "cell_type": "markdown",
   "id": "b670ab94-1305-4a12-9b84-11931d25f6a5",
   "metadata": {},
   "source": [
    "<h3> 4. How many accidents happened in urban vs. rural areas?</h3>"
   ]
  },
  {
   "cell_type": "code",
   "execution_count": 8,
   "id": "f940b053-5b12-4892-8977-e3a607b1b2e1",
   "metadata": {},
   "outputs": [],
   "source": [
    "fatal = uk_road_accident[uk_road_accident['Accident_Severity'] == 'Fatal']"
   ]
  },
  {
   "cell_type": "code",
   "execution_count": 9,
   "id": "c354bc70-ae8c-4626-a037-1b301c641176",
   "metadata": {},
   "outputs": [
    {
     "data": {
      "text/html": [
       "<div>\n",
       "<style scoped>\n",
       "    .dataframe tbody tr th:only-of-type {\n",
       "        vertical-align: middle;\n",
       "    }\n",
       "\n",
       "    .dataframe tbody tr th {\n",
       "        vertical-align: top;\n",
       "    }\n",
       "\n",
       "    .dataframe thead th {\n",
       "        text-align: right;\n",
       "    }\n",
       "</style>\n",
       "<table border=\"1\" class=\"dataframe\">\n",
       "  <thead>\n",
       "    <tr style=\"text-align: right;\">\n",
       "      <th></th>\n",
       "      <th>Index</th>\n",
       "      <th>Accident_Severity</th>\n",
       "      <th>Accident Date</th>\n",
       "      <th>Latitude</th>\n",
       "      <th>Light_Conditions</th>\n",
       "      <th>District Area</th>\n",
       "      <th>Longitude</th>\n",
       "      <th>Number_of_Casualties</th>\n",
       "      <th>Number_of_Vehicles</th>\n",
       "      <th>Road_Surface_Conditions</th>\n",
       "      <th>Road_Type</th>\n",
       "      <th>Urban_or_Rural_Area</th>\n",
       "      <th>Weather_Conditions</th>\n",
       "      <th>Vehicle_Type</th>\n",
       "    </tr>\n",
       "  </thead>\n",
       "  <tbody>\n",
       "    <tr>\n",
       "      <th>7</th>\n",
       "      <td>200701BS67370</td>\n",
       "      <td>Fatal</td>\n",
       "      <td>3/10/2019</td>\n",
       "      <td>51.482260</td>\n",
       "      <td>Darkness - lights lit</td>\n",
       "      <td>Kensington and Chelsea</td>\n",
       "      <td>-0.179486</td>\n",
       "      <td>3</td>\n",
       "      <td>2</td>\n",
       "      <td>Dry</td>\n",
       "      <td>Single carriageway</td>\n",
       "      <td>Urban</td>\n",
       "      <td>Fine no high winds</td>\n",
       "      <td>Car</td>\n",
       "    </tr>\n",
       "    <tr>\n",
       "      <th>11</th>\n",
       "      <td>200701BS67747</td>\n",
       "      <td>Fatal</td>\n",
       "      <td>2/11/2019</td>\n",
       "      <td>51.499127</td>\n",
       "      <td>Daylight</td>\n",
       "      <td>Kensington and Chelsea</td>\n",
       "      <td>-0.159652</td>\n",
       "      <td>1</td>\n",
       "      <td>2</td>\n",
       "      <td>Dry</td>\n",
       "      <td>Single carriageway</td>\n",
       "      <td>Urban</td>\n",
       "      <td>Fine no high winds</td>\n",
       "      <td>Bus or coach (17 or more pass seats)</td>\n",
       "    </tr>\n",
       "    <tr>\n",
       "      <th>20</th>\n",
       "      <td>200701BS68301</td>\n",
       "      <td>Fatal</td>\n",
       "      <td>24-10-2019</td>\n",
       "      <td>51.505996</td>\n",
       "      <td>Daylight</td>\n",
       "      <td>Kensington and Chelsea</td>\n",
       "      <td>-0.214277</td>\n",
       "      <td>1</td>\n",
       "      <td>1</td>\n",
       "      <td>Dry</td>\n",
       "      <td>Single carriageway</td>\n",
       "      <td>Urban</td>\n",
       "      <td>Fine no high winds</td>\n",
       "      <td>Car</td>\n",
       "    </tr>\n",
       "    <tr>\n",
       "      <th>21</th>\n",
       "      <td>200701BS68302</td>\n",
       "      <td>Fatal</td>\n",
       "      <td>24-11-2019</td>\n",
       "      <td>51.486795</td>\n",
       "      <td>Daylight</td>\n",
       "      <td>Kensington and Chelsea</td>\n",
       "      <td>-0.170375</td>\n",
       "      <td>5</td>\n",
       "      <td>1</td>\n",
       "      <td>Dry</td>\n",
       "      <td>Single carriageway</td>\n",
       "      <td>Urban</td>\n",
       "      <td>Fine no high winds</td>\n",
       "      <td>Car</td>\n",
       "    </tr>\n",
       "    <tr>\n",
       "      <th>717</th>\n",
       "      <td>200701CP00032</td>\n",
       "      <td>Fatal</td>\n",
       "      <td>30-01-2019</td>\n",
       "      <td>51.510978</td>\n",
       "      <td>Daylight</td>\n",
       "      <td>City of London</td>\n",
       "      <td>-0.107581</td>\n",
       "      <td>1</td>\n",
       "      <td>2</td>\n",
       "      <td>Wet or damp</td>\n",
       "      <td>Dual carriageway</td>\n",
       "      <td>Urban</td>\n",
       "      <td>Fine no high winds</td>\n",
       "      <td>Car</td>\n",
       "    </tr>\n",
       "    <tr>\n",
       "      <th>...</th>\n",
       "      <td>...</td>\n",
       "      <td>...</td>\n",
       "      <td>...</td>\n",
       "      <td>...</td>\n",
       "      <td>...</td>\n",
       "      <td>...</td>\n",
       "      <td>...</td>\n",
       "      <td>...</td>\n",
       "      <td>...</td>\n",
       "      <td>...</td>\n",
       "      <td>...</td>\n",
       "      <td>...</td>\n",
       "      <td>...</td>\n",
       "      <td>...</td>\n",
       "    </tr>\n",
       "    <tr>\n",
       "      <th>660470</th>\n",
       "      <td>201091NH00529</td>\n",
       "      <td>Fatal</td>\n",
       "      <td>29-01-2022</td>\n",
       "      <td>58.475726</td>\n",
       "      <td>Daylight</td>\n",
       "      <td>Western Isles</td>\n",
       "      <td>-6.278583</td>\n",
       "      <td>1</td>\n",
       "      <td>1</td>\n",
       "      <td>Wet or damp</td>\n",
       "      <td>Single carriageway</td>\n",
       "      <td>Rural</td>\n",
       "      <td>Fine + high winds</td>\n",
       "      <td>Car</td>\n",
       "    </tr>\n",
       "    <tr>\n",
       "      <th>660519</th>\n",
       "      <td>201091NJ01533</td>\n",
       "      <td>Fatal</td>\n",
       "      <td>2/2/2022</td>\n",
       "      <td>58.495554</td>\n",
       "      <td>Daylight</td>\n",
       "      <td>Highland</td>\n",
       "      <td>-4.451628</td>\n",
       "      <td>1</td>\n",
       "      <td>1</td>\n",
       "      <td>Snow</td>\n",
       "      <td>Single carriageway</td>\n",
       "      <td>Rural</td>\n",
       "      <td>Snowing no high winds</td>\n",
       "      <td>Car</td>\n",
       "    </tr>\n",
       "    <tr>\n",
       "      <th>660565</th>\n",
       "      <td>201091NJ11329</td>\n",
       "      <td>Fatal</td>\n",
       "      <td>15-08-2022</td>\n",
       "      <td>57.871514</td>\n",
       "      <td>Daylight</td>\n",
       "      <td>Highland</td>\n",
       "      <td>-4.243081</td>\n",
       "      <td>1</td>\n",
       "      <td>1</td>\n",
       "      <td>Dry</td>\n",
       "      <td>Single carriageway</td>\n",
       "      <td>Rural</td>\n",
       "      <td>Fine no high winds</td>\n",
       "      <td>Goods 7.5 tonnes mgw and over</td>\n",
       "    </tr>\n",
       "    <tr>\n",
       "      <th>660581</th>\n",
       "      <td>201091NJ14695</td>\n",
       "      <td>Fatal</td>\n",
       "      <td>21-10-2022</td>\n",
       "      <td>58.445475</td>\n",
       "      <td>Darkness - lights lit</td>\n",
       "      <td>Highland</td>\n",
       "      <td>-3.065535</td>\n",
       "      <td>1</td>\n",
       "      <td>1</td>\n",
       "      <td>Wet or damp</td>\n",
       "      <td>Single carriageway</td>\n",
       "      <td>Rural</td>\n",
       "      <td>Fine no high winds</td>\n",
       "      <td>Car</td>\n",
       "    </tr>\n",
       "    <tr>\n",
       "      <th>660627</th>\n",
       "      <td>201091NL00060</td>\n",
       "      <td>Fatal</td>\n",
       "      <td>6/1/2022</td>\n",
       "      <td>60.241195</td>\n",
       "      <td>Daylight</td>\n",
       "      <td>Shetland Islands</td>\n",
       "      <td>-1.409761</td>\n",
       "      <td>3</td>\n",
       "      <td>1</td>\n",
       "      <td>Snow</td>\n",
       "      <td>Single carriageway</td>\n",
       "      <td>Rural</td>\n",
       "      <td>Fine no high winds</td>\n",
       "      <td>Van / Goods 3.5 tonnes mgw or under</td>\n",
       "    </tr>\n",
       "  </tbody>\n",
       "</table>\n",
       "<p>8661 rows × 14 columns</p>\n",
       "</div>"
      ],
      "text/plain": [
       "                Index Accident_Severity Accident Date   Latitude  \\\n",
       "7       200701BS67370             Fatal     3/10/2019  51.482260   \n",
       "11      200701BS67747             Fatal     2/11/2019  51.499127   \n",
       "20      200701BS68301             Fatal    24-10-2019  51.505996   \n",
       "21      200701BS68302             Fatal    24-11-2019  51.486795   \n",
       "717     200701CP00032             Fatal    30-01-2019  51.510978   \n",
       "...               ...               ...           ...        ...   \n",
       "660470  201091NH00529             Fatal    29-01-2022  58.475726   \n",
       "660519  201091NJ01533             Fatal      2/2/2022  58.495554   \n",
       "660565  201091NJ11329             Fatal    15-08-2022  57.871514   \n",
       "660581  201091NJ14695             Fatal    21-10-2022  58.445475   \n",
       "660627  201091NL00060             Fatal      6/1/2022  60.241195   \n",
       "\n",
       "             Light_Conditions           District Area  Longitude  \\\n",
       "7       Darkness - lights lit  Kensington and Chelsea  -0.179486   \n",
       "11                   Daylight  Kensington and Chelsea  -0.159652   \n",
       "20                   Daylight  Kensington and Chelsea  -0.214277   \n",
       "21                   Daylight  Kensington and Chelsea  -0.170375   \n",
       "717                  Daylight          City of London  -0.107581   \n",
       "...                       ...                     ...        ...   \n",
       "660470               Daylight           Western Isles  -6.278583   \n",
       "660519               Daylight                Highland  -4.451628   \n",
       "660565               Daylight                Highland  -4.243081   \n",
       "660581  Darkness - lights lit                Highland  -3.065535   \n",
       "660627               Daylight        Shetland Islands  -1.409761   \n",
       "\n",
       "        Number_of_Casualties  Number_of_Vehicles Road_Surface_Conditions  \\\n",
       "7                          3                   2                     Dry   \n",
       "11                         1                   2                     Dry   \n",
       "20                         1                   1                     Dry   \n",
       "21                         5                   1                     Dry   \n",
       "717                        1                   2             Wet or damp   \n",
       "...                      ...                 ...                     ...   \n",
       "660470                     1                   1             Wet or damp   \n",
       "660519                     1                   1                    Snow   \n",
       "660565                     1                   1                     Dry   \n",
       "660581                     1                   1             Wet or damp   \n",
       "660627                     3                   1                    Snow   \n",
       "\n",
       "                 Road_Type Urban_or_Rural_Area     Weather_Conditions  \\\n",
       "7       Single carriageway               Urban     Fine no high winds   \n",
       "11      Single carriageway               Urban     Fine no high winds   \n",
       "20      Single carriageway               Urban     Fine no high winds   \n",
       "21      Single carriageway               Urban     Fine no high winds   \n",
       "717       Dual carriageway               Urban     Fine no high winds   \n",
       "...                    ...                 ...                    ...   \n",
       "660470  Single carriageway               Rural      Fine + high winds   \n",
       "660519  Single carriageway               Rural  Snowing no high winds   \n",
       "660565  Single carriageway               Rural     Fine no high winds   \n",
       "660581  Single carriageway               Rural     Fine no high winds   \n",
       "660627  Single carriageway               Rural     Fine no high winds   \n",
       "\n",
       "                                Vehicle_Type  \n",
       "7                                        Car  \n",
       "11      Bus or coach (17 or more pass seats)  \n",
       "20                                       Car  \n",
       "21                                       Car  \n",
       "717                                      Car  \n",
       "...                                      ...  \n",
       "660470                                   Car  \n",
       "660519                                   Car  \n",
       "660565         Goods 7.5 tonnes mgw and over  \n",
       "660581                                   Car  \n",
       "660627   Van / Goods 3.5 tonnes mgw or under  \n",
       "\n",
       "[8661 rows x 14 columns]"
      ]
     },
     "execution_count": 9,
     "metadata": {},
     "output_type": "execute_result"
    }
   ],
   "source": [
    "fatal"
   ]
  },
  {
   "cell_type": "markdown",
   "id": "5c7181cc-5a00-436a-a2a9-7cd82382d785",
   "metadata": {},
   "source": [
    "<hr> Insight#4 - Based on the dataset, a total of 6,813 accidents occurred in urban areas, while 1,848 accidents were recorded in rural areas."
   ]
  },
  {
   "cell_type": "markdown",
   "id": "bd0e5cd0-f9bd-4be4-a53d-e438b4e922e4",
   "metadata": {},
   "source": [
    "<h3> 5. Which road type is most frequently associated with accidents? </h3>"
   ]
  },
  {
   "cell_type": "code",
   "execution_count": 10,
   "id": "8699d331-6f5d-4be8-bbdb-00a97d2a728c",
   "metadata": {},
   "outputs": [
    {
     "data": {
      "text/plain": [
       "Road_Surface_Conditions\n",
       "Dry                     447821\n",
       "Wet or damp             186708\n",
       "Frost or ice             18517\n",
       "Snow                      5890\n",
       "Flood over 3cm. deep      1017\n",
       "Name: count, dtype: int64"
      ]
     },
     "execution_count": 10,
     "metadata": {},
     "output_type": "execute_result"
    }
   ],
   "source": [
    "uk_road_accident['Road_Surface_Conditions'].value_counts()"
   ]
  },
  {
   "cell_type": "markdown",
   "id": "b3fd36f5-8bb7-4962-8ff0-1de59dfa3f73",
   "metadata": {},
   "source": [
    "<hr> Insight#5 - The dataset shows that most accidents happened on dry roads (447,821 cases), followed by wet or damp roads (186,708 cases). Other conditions like frost or ice (18,517), snow (5,890), and flooding (1,017) were much less common."
   ]
  },
  {
   "cell_type": "markdown",
   "id": "5b0df474-a3c1-41ec-b22e-96d6f3544ac6",
   "metadata": {},
   "source": [
    "<h3> 6. What weather condition is most common during accidents?</h3>"
   ]
  },
  {
   "cell_type": "code",
   "execution_count": 13,
   "id": "d864a3ce-3731-492d-a575-4879b0a88631",
   "metadata": {},
   "outputs": [
    {
     "data": {
      "text/plain": [
       "Weather_Conditions\n",
       "Fine no high winds       520885\n",
       "Raining no high winds     79696\n",
       "Other                     17150\n",
       "Raining + high winds       9615\n",
       "Fine + high winds          8554\n",
       "Snowing no high winds      6238\n",
       "Fog or mist                3528\n",
       "Snowing + high winds        885\n",
       "Name: count, dtype: int64"
      ]
     },
     "execution_count": 13,
     "metadata": {},
     "output_type": "execute_result"
    }
   ],
   "source": [
    "uk_road_accident['Weather_Conditions'].value_counts()"
   ]
  },
  {
   "cell_type": "markdown",
   "id": "eda1e11e-7942-48e0-bfc2-046c55abc465",
   "metadata": {},
   "source": [
    "<hr> Insight#6 - Most accidents happened in fine weather with no high winds (520,885 cases), followed by rain without high winds (79,696 cases). Other conditions like fog, snow, or strong winds were much less common."
   ]
  },
  {
   "cell_type": "markdown",
   "id": "26c3771d-1cfd-4f1f-a341-032d78f465bf",
   "metadata": {},
   "source": [
    "<h3> 7. How many accidents happened during daylight vs. darkness?</h3>"
   ]
  },
  {
   "cell_type": "markdown",
   "id": "ee5825d4-c214-471e-8445-252e5c6a534d",
   "metadata": {},
   "source": [
    "uk_road_accident['Light_Conditions'].value_counts()"
   ]
  },
  {
   "cell_type": "markdown",
   "id": "1675c40f-0489-4de4-82b1-f465e14ecc5e",
   "metadata": {},
   "source": [
    "<hr> Insight#7 - Most accidents happened in daylight (484,880 cases), while a total of 175,799 accidents occurred under different darkness conditions."
   ]
  },
  {
   "cell_type": "markdown",
   "id": "e7be7541-876b-464c-9917-9cc5c34c33a5",
   "metadata": {},
   "source": [
    "<h3> 8. How many total accidents are recorded?</h3>"
   ]
  },
  {
   "cell_type": "code",
   "execution_count": 15,
   "id": "c9ad3901-58ea-44d1-9b54-94f027c88c97",
   "metadata": {},
   "outputs": [
    {
     "data": {
      "text/plain": [
       "660679"
      ]
     },
     "execution_count": 15,
     "metadata": {},
     "output_type": "execute_result"
    }
   ],
   "source": [
    "len(uk_road_accident)"
   ]
  },
  {
   "cell_type": "markdown",
   "id": "4245e660-c2de-4ad9-aa95-0ad1d2e7a9c3",
   "metadata": {},
   "source": [
    "<hr> Insight#8 - As what indicated above, the total accidents recorded was 660,679."
   ]
  },
  {
   "cell_type": "markdown",
   "id": "0b22b1ca-09b2-4e05-a1fe-d2b8b2170d6d",
   "metadata": {},
   "source": [
    "<h3> 9. How many accidents involved motorcycles?</h3>"
   ]
  },
  {
   "cell_type": "code",
   "execution_count": 16,
   "id": "a62e70ad-064b-48ca-af43-fe821146a99d",
   "metadata": {},
   "outputs": [
    {
     "data": {
      "text/plain": [
       "56185"
      ]
     },
     "execution_count": 16,
     "metadata": {},
     "output_type": "execute_result"
    }
   ],
   "source": [
    "motorcycle_accidents = uk_road_accident[uk_road_accident['Vehicle_Type'].str.contains('Motorcycle', case=False, na=False)]\n",
    "len(motorcycle_accidents)"
   ]
  },
  {
   "cell_type": "markdown",
   "id": "6eb55f1e-9584-4463-91be-4e93f5297d68",
   "metadata": {},
   "source": [
    "<hr> Insight#9 - As what indicated, the total accident recorded was 56185."
   ]
  },
  {
   "cell_type": "markdown",
   "id": "3ea9aa5e-5893-4976-a890-4868e9f1831a",
   "metadata": {},
   "source": [
    "<h3> 10. How many accidents occurred when the road surface was dry?"
   ]
  },
  {
   "cell_type": "code",
   "execution_count": 17,
   "id": "9b245b52-2504-458b-b407-a06ca654f6d3",
   "metadata": {},
   "outputs": [
    {
     "data": {
      "text/plain": [
       "447821"
      ]
     },
     "execution_count": 17,
     "metadata": {},
     "output_type": "execute_result"
    }
   ],
   "source": [
    "dry_accidents = uk_road_accident[uk_road_accident['Road_Surface_Conditions'] == 'Dry']\n",
    "len(dry_accidents)"
   ]
  },
  {
   "cell_type": "markdown",
   "id": "71347a78-3d0a-44a7-8044-1ada7c9dfc03",
   "metadata": {},
   "source": [
    "<hr> Insight#10 - Based on the dataset, a total of 447,821 accidents occurred on dry road surfaces."
   ]
  },
  {
   "cell_type": "markdown",
   "id": "2db5877a-8ef3-43f0-b54e-13cf0dbd00ed",
   "metadata": {},
   "source": [
    "<h3> 11. Which weather condition is the least common?</h3>"
   ]
  },
  {
   "cell_type": "code",
   "execution_count": 18,
   "id": "94f9e226-f3ee-4f45-a465-377bda19c174",
   "metadata": {},
   "outputs": [
    {
     "data": {
      "text/plain": [
       "Weather_Conditions\n",
       "Fine no high winds       520885\n",
       "Raining no high winds     79696\n",
       "Other                     17150\n",
       "Raining + high winds       9615\n",
       "Fine + high winds          8554\n",
       "Snowing no high winds      6238\n",
       "Fog or mist                3528\n",
       "Snowing + high winds        885\n",
       "Name: count, dtype: int64"
      ]
     },
     "execution_count": 18,
     "metadata": {},
     "output_type": "execute_result"
    }
   ],
   "source": [
    "uk_road_accident['Weather_Conditions'].value_counts()\n"
   ]
  },
  {
   "cell_type": "markdown",
   "id": "fc0a9463-374f-4d41-ab23-c93a11e54b50",
   "metadata": {},
   "source": [
    "<hr> Insight#11 - The least common weather condition during accidents is snow with high winds, with 885 cases."
   ]
  },
  {
   "cell_type": "markdown",
   "id": "eaf8cd91-2d53-4f64-a8d4-f0491db3d6e5",
   "metadata": {},
   "source": [
    "<h3> 12. How many accidents happened in darkness with no lighting?</h3>"
   ]
  },
  {
   "cell_type": "code",
   "execution_count": 19,
   "id": "8633d358-0bed-4f83-a27d-f1a27358c2c0",
   "metadata": {},
   "outputs": [
    {
     "data": {
      "text/plain": [
       "37437"
      ]
     },
     "execution_count": 19,
     "metadata": {},
     "output_type": "execute_result"
    }
   ],
   "source": [
    "dark_no_light_accidents = uk_road_accident[uk_road_accident['Light_Conditions'] == 'Darkness - no lighting']\n",
    "len(dark_no_light_accidents)"
   ]
  },
  {
   "cell_type": "markdown",
   "id": "d7b27755-6769-44c7-b412-2d3d894e4144",
   "metadata": {},
   "source": [
    "<hr> Insight#12 - Based on the information, a total of 37,437 accidents occurred in darkness with no lighting."
   ]
  },
  {
   "cell_type": "markdown",
   "id": "2cfe2d96-f73e-4383-b63b-a89fa28ddd28",
   "metadata": {},
   "source": [
    "<h3> 13. What is the latest accident date in the dataset?</h3>"
   ]
  },
  {
   "cell_type": "code",
   "execution_count": 20,
   "id": "d2d80ce1-2fa3-4436-bb5f-02963bdac0c5",
   "metadata": {},
   "outputs": [
    {
     "data": {
      "text/plain": [
       "'9/9/2022'"
      ]
     },
     "execution_count": 20,
     "metadata": {},
     "output_type": "execute_result"
    }
   ],
   "source": [
    "uk_road_accident['Accident Date'].max()"
   ]
  },
  {
   "cell_type": "markdown",
   "id": "411f6c3d-f489-42b5-9aac-e25714ea831f",
   "metadata": {},
   "source": [
    "<hr> Insight#13 - The latest accident in the dataset happened on September 9, 2022."
   ]
  },
  {
   "cell_type": "markdown",
   "id": "d1bf4106-0961-4983-b1ec-c881f3036b25",
   "metadata": {},
   "source": [
    "<h3> 14. What is the earliest accident date in the dataset?</h3>"
   ]
  },
  {
   "cell_type": "code",
   "execution_count": 21,
   "id": "2fbf4a91-0355-40c5-8728-75dbd2fb8335",
   "metadata": {},
   "outputs": [
    {
     "data": {
      "text/plain": [
       "'1/1/2019'"
      ]
     },
     "execution_count": 21,
     "metadata": {},
     "output_type": "execute_result"
    }
   ],
   "source": [
    "uk_road_accident['Accident Date'].min()"
   ]
  },
  {
   "cell_type": "markdown",
   "id": "7a039531-404b-4fdb-9148-19eacf6721bd",
   "metadata": {},
   "source": [
    "<hr> Insight#14 - The earliest accident in the dataset happened on January 1, 2019."
   ]
  },
  {
   "cell_type": "markdown",
   "id": "719d9cef-b5b1-4f1c-a533-47d6ff6ef116",
   "metadata": {},
   "source": [
    "<h3> 15. Which district area had the fewest accidents?</h3>"
   ]
  },
  {
   "cell_type": "code",
   "execution_count": 23,
   "id": "f70059ca-0103-479e-adba-042c9892b4fb",
   "metadata": {},
   "outputs": [
    {
     "data": {
      "text/plain": [
       "District Area\n",
       "Birmingham            13491\n",
       "Leeds                  8898\n",
       "Manchester             6720\n",
       "Bradford               6212\n",
       "Sheffield              5710\n",
       "                      ...  \n",
       "Berwick-upon-Tweed      153\n",
       "Teesdale                142\n",
       "Shetland Islands        133\n",
       "Orkney Islands          117\n",
       "Clackmannanshire         91\n",
       "Name: count, Length: 422, dtype: int64"
      ]
     },
     "execution_count": 23,
     "metadata": {},
     "output_type": "execute_result"
    }
   ],
   "source": [
    "uk_road_accident['District Area'].value_counts()"
   ]
  },
  {
   "cell_type": "markdown",
   "id": "b0e7c0b6-b7ec-44d0-ab7b-b51b14631797",
   "metadata": {},
   "source": [
    "<hr> Insight#15 - The district area with the fewest accidents is Clackmannanshire, with 91 recorded cases."
   ]
  },
  {
   "cell_type": "markdown",
   "id": "666f7c53-21ae-4d31-b385-38027fe0db30",
   "metadata": {},
   "source": [
    "<h3> 16. How many accidents happened in Highland?</h3>"
   ]
  },
  {
   "cell_type": "code",
   "execution_count": 24,
   "id": "f371825a-59a0-4d37-a1d7-76642a20312a",
   "metadata": {},
   "outputs": [
    {
     "data": {
      "text/plain": [
       "2021"
      ]
     },
     "execution_count": 24,
     "metadata": {},
     "output_type": "execute_result"
    }
   ],
   "source": [
    "highland_accidents = uk_road_accident[uk_road_accident['District Area'] == 'Highland']\n",
    "len(highland_accidents)"
   ]
  },
  {
   "cell_type": "markdown",
   "id": "c370ac91-563e-4085-bdbc-956b36d8474d",
   "metadata": {},
   "source": [
    "<hr> Insight#16 - A total of 2,021 accidents happened in Highland."
   ]
  },
  {
   "cell_type": "markdown",
   "id": "e35a96c3-91e3-42c8-93fe-f2c5eeea544c",
   "metadata": {},
   "source": [
    "<h3> 17. Which district area had the most serious accidents? </h3>"
   ]
  },
  {
   "cell_type": "code",
   "execution_count": 26,
   "id": "9418cee5-c0a0-46b6-823c-37f32bdda245",
   "metadata": {},
   "outputs": [
    {
     "data": {
      "text/plain": [
       "'Birmingham'"
      ]
     },
     "execution_count": 26,
     "metadata": {},
     "output_type": "execute_result"
    }
   ],
   "source": [
    "serious_accidents = uk_road_accident[uk_road_accident['Accident_Severity'] == 'Serious']\n",
    "serious_accidents['District Area'].value_counts().idxmax()"
   ]
  },
  {
   "cell_type": "markdown",
   "id": "49ce1758-8d1b-4cfd-ac9f-0b6ce9e74864",
   "metadata": {},
   "source": [
    "<hr> Insight#17 - The district with the most serious accidents is Birmingham."
   ]
  },
  {
   "cell_type": "markdown",
   "id": "fdc04fc8-c048-4e8a-92b1-3a38f2f942d5",
   "metadata": {},
   "source": [
    "<h3> 18. How many accidents happen on wet roads?</h3>"
   ]
  },
  {
   "cell_type": "code",
   "execution_count": 27,
   "id": "3e266742-186a-48c2-87d8-535ce40446c9",
   "metadata": {},
   "outputs": [
    {
     "data": {
      "text/plain": [
       "186708"
      ]
     },
     "execution_count": 27,
     "metadata": {},
     "output_type": "execute_result"
    }
   ],
   "source": [
    "wet_road_accidents = uk_road_accident[uk_road_accident['Road_Surface_Conditions'] == 'Wet or damp']\n",
    "len(wet_road_accidents)"
   ]
  },
  {
   "cell_type": "markdown",
   "id": "643b90f5-92c4-4fbf-a4ea-d76393c43449",
   "metadata": {},
   "source": [
    "<hr> Insight#18 - A total of 186,708 accidents occurred on wet roads."
   ]
  },
  {
   "cell_type": "markdown",
   "id": "95478c74-4e26-4800-b361-e5251533f3d0",
   "metadata": {},
   "source": [
    "<h3> 19. How many accidents happen on dry roads?</h3>"
   ]
  },
  {
   "cell_type": "code",
   "execution_count": 28,
   "id": "f05d72cb-ef4b-4f4c-8e87-0eec859e8c14",
   "metadata": {},
   "outputs": [
    {
     "data": {
      "text/plain": [
       "447821"
      ]
     },
     "execution_count": 28,
     "metadata": {},
     "output_type": "execute_result"
    }
   ],
   "source": [
    "dry_road_accidents = uk_road_accident[uk_road_accident['Road_Surface_Conditions'] == 'Dry']\n",
    "len(dry_road_accidents)\n"
   ]
  },
  {
   "cell_type": "markdown",
   "id": "ce251aa8-27e6-4be8-b9d3-6f5b0391cdfd",
   "metadata": {},
   "source": [
    "<hr> Insight#19 - A total of 447,821 accidents occurred on dry roads."
   ]
  },
  {
   "cell_type": "markdown",
   "id": "ad82a693-3195-4003-99ed-7ec5023287bf",
   "metadata": {},
   "source": [
    "<h3> 20.  Is there a correlation between latitude and longitude and the number of casualties?</h3>"
   ]
  },
  {
   "cell_type": "code",
   "execution_count": 29,
   "id": "7fe70b46-867f-40b2-85e0-89852a937d28",
   "metadata": {},
   "outputs": [
    {
     "data": {
      "text/html": [
       "<div>\n",
       "<style scoped>\n",
       "    .dataframe tbody tr th:only-of-type {\n",
       "        vertical-align: middle;\n",
       "    }\n",
       "\n",
       "    .dataframe tbody tr th {\n",
       "        vertical-align: top;\n",
       "    }\n",
       "\n",
       "    .dataframe thead th {\n",
       "        text-align: right;\n",
       "    }\n",
       "</style>\n",
       "<table border=\"1\" class=\"dataframe\">\n",
       "  <thead>\n",
       "    <tr style=\"text-align: right;\">\n",
       "      <th></th>\n",
       "      <th>Latitude</th>\n",
       "      <th>Longitude</th>\n",
       "      <th>Number_of_Casualties</th>\n",
       "    </tr>\n",
       "  </thead>\n",
       "  <tbody>\n",
       "    <tr>\n",
       "      <th>Latitude</th>\n",
       "      <td>1.000000</td>\n",
       "      <td>-0.398114</td>\n",
       "      <td>0.032201</td>\n",
       "    </tr>\n",
       "    <tr>\n",
       "      <th>Longitude</th>\n",
       "      <td>-0.398114</td>\n",
       "      <td>1.000000</td>\n",
       "      <td>-0.040406</td>\n",
       "    </tr>\n",
       "    <tr>\n",
       "      <th>Number_of_Casualties</th>\n",
       "      <td>0.032201</td>\n",
       "      <td>-0.040406</td>\n",
       "      <td>1.000000</td>\n",
       "    </tr>\n",
       "  </tbody>\n",
       "</table>\n",
       "</div>"
      ],
      "text/plain": [
       "                      Latitude  Longitude  Number_of_Casualties\n",
       "Latitude              1.000000  -0.398114              0.032201\n",
       "Longitude            -0.398114   1.000000             -0.040406\n",
       "Number_of_Casualties  0.032201  -0.040406              1.000000"
      ]
     },
     "execution_count": 29,
     "metadata": {},
     "output_type": "execute_result"
    }
   ],
   "source": [
    "uk_road_accident[['Latitude', 'Longitude', 'Number_of_Casualties']].corr()"
   ]
  },
  {
   "cell_type": "code",
   "execution_count": null,
   "id": "8073dbdd-d341-4170-8848-735cf134cb16",
   "metadata": {},
   "outputs": [],
   "source": []
  }
 ],
 "metadata": {
  "kernelspec": {
   "display_name": "Python 3 (ipykernel)",
   "language": "python",
   "name": "python3"
  },
  "language_info": {
   "codemirror_mode": {
    "name": "ipython",
    "version": 3
   },
   "file_extension": ".py",
   "mimetype": "text/x-python",
   "name": "python",
   "nbconvert_exporter": "python",
   "pygments_lexer": "ipython3",
   "version": "3.11.9"
  }
 },
 "nbformat": 4,
 "nbformat_minor": 5
}
